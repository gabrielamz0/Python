{
 "cells": [
  {
   "cell_type": "markdown",
   "metadata": {},
   "source": [
    "**1. Funciones para todos los objetos fundamentales: x(t) , y(t) , 𝑟⃗ (t)**"
   ]
  },
  {
   "cell_type": "code",
   "execution_count": 46,
   "metadata": {},
   "outputs": [],
   "source": [
    "#Funcion para calcular y(t)\n",
    "def comp_vertical(yi, vyi, t, a = -9.8):\n",
    "    y = yi + vyi*t + a*t**2/2\n",
    "    return(y)\n",
    "\n",
    "#Funcion para calcular x(t)\n",
    "def comp_horizontal(xi, vxi, t):\n",
    "    x = xi + vxi*t\n",
    "    return(y)\n",
    "\n",
    "# Funcion para calcular el vector de posición\n",
    "def Posición (xi,yi,t,vxi,vyi,a=-9.8):\n",
    "    y = vertical(yi,t,vyi,a)\n",
    "    x = horizontal(xi,t,vxi)\n",
    "    return (x,y)"
   ]
  },
  {
   "cell_type": "markdown",
   "metadata": {},
   "source": [
    "**2. Problema: \n",
    "PORCENTAJE DE LA VELOCIDAD FINAL DE UN PROYECTIL RESPECTO A LA VELOCIDAD INICIAL**"
   ]
  },
  {
   "cell_type": "code",
   "execution_count": null,
   "metadata": {},
   "outputs": [],
   "source": [
    "Escriba una función que calcule la velocidad del proyectil en todo tiempo y devuelva el porcentaje que esa \n",
    "velocidad representa respecto a la velocidad inicial v_0 "
   ]
  },
  {
   "cell_type": "code",
   "execution_count": 48,
   "metadata": {},
   "outputs": [],
   "source": [
    "import math\n",
    "\n",
    "from math import sqrt\n",
    "\n",
    "def velocidad_final_en_t():\n",
    "    ###Obteniendo Datos\n",
    "\n",
    "    #Velocidad inicial\n",
    "    #la velocidad inicial es el 100%\n",
    "    try:\n",
    "        velocidad_inicial = float(input(\"Introduzca la velocidad inicial del proyectil: \"))\n",
    "        \n",
    "    except ValueError:\n",
    "        print(\"\\nERROR DE ENTRADA: Debe ingresar un número.\\n\")\n",
    "        print(\"Intente de nuevo:\")\n",
    "        velocidad_proyectil_en_t()\n",
    "        return(None)\n",
    "    \n",
    "    #posicion inicial\n",
    "    try:\n",
    "        xi= float(input(\"Introduzca la posicion de la componente inicial en x: \"))\n",
    "    except ValueError:\n",
    "        print(\"\\nERROR DE ENTRADA: Debe ingresar un número.\\n\")\n",
    "        print(\"Indrotuzca de nuevo:\")\n",
    "        velocidad_proyectil_en_t() \n",
    "        return(None)\n",
    "    \n",
    "    try:\n",
    "        yi= float(input(\"Introduzca la posicion inicial en y: \"))\n",
    "    except ValueError:\n",
    "        print(\"\\nERROR DE ENTRADA: Debe ingresar un número.\\n\")\n",
    "        print(\"Indrotuzca de nuevo:\")\n",
    "        velocidad_proyectil_en_t() \n",
    "        return(None)\n",
    "    \n",
    "    posicion_inicial=(xi, yi)\n",
    "\n",
    "    #Tiempo\n",
    "    try:\n",
    "        t= float (input(\"Introduzca el tiempo en el cual quiere evaluar la velocidad: \"))\n",
    "    except ValueError:\n",
    "        print(\"\\nERROR DE ENTRADA: Debe ingresar un número.\\n\")\n",
    "        print(\"Indrotuzca de nuevo:\")\n",
    "        velocidad_proyectil_en_t() \n",
    "        return(None)\n",
    "    \n",
    "    #Aceleracion\n",
    "    try:\n",
    "        aceleracion=float(input(\"Introduzca el valor de la aceleracion: \"))\n",
    "    except ValueError:\n",
    "        print(\"\\nERROR DE ENTRADA: Debe ingresar un número.\\n\")\n",
    "        print(\"Indrotuzca de nuevo:\")\n",
    "        velocidad_proyectil_en_t() \n",
    "        return(None)\n",
    "    \n",
    "    #Angulo\n",
    "    try:\n",
    "        angulo= float(input(\"Introduzca el angulo inicial: \"))\n",
    "        a2=math.radians(angulo)\n",
    "        ax=math.cos(a2)\n",
    "        ay=math.sin(a2)\n",
    "    except ValueError:\n",
    "        print(\"\\nERROR DE ENTRADA: Debe ingresar un número.\\n\")\n",
    "        print(\"Indrotuzca de nuevo:\")\n",
    "        velocidad_proyectil_en_t() \n",
    "        return(None)\n",
    "    \n",
    "    #Calculando la componente y de la velocidad inicial\n",
    "    vxi=velocidad_inicial*ax\n",
    "\n",
    "    #Calculando componente x de la velocidad inical\n",
    "    vyi=velocidad_inicial*ay\n",
    "\n",
    "    #Vi=(Vxi, Vyi)\n",
    "    vector_vi=(ax, ay)\n",
    "    print(\"\\nEl vector velocidad inicial es: \")\n",
    "    print(vector_vi)\n",
    "\n",
    "    #calculando la velocidad final en y\n",
    "    vyf= vyi-(aceleracion*t)\n",
    "\n",
    "   #vector velocidad final\n",
    "    print(\"\\nEL vector de velocidad final es: \")\n",
    "    vector_vf=(ax, vyf)\n",
    "    print(vector_vf)\n",
    "\n",
    "   #Magnitud total de la velocidad\n",
    "    velocidad_total= sqrt(vxi**2+vyf**2)\n",
    "    print(\"\\nLa velocidad final total en m/s es: \")\n",
    "    print(velocidad_total)\n",
    "\n",
    "   #Calcualndo el porcentaje representativo de la velocidad final respecto a la inicial\n",
    "    porcentaje_v= 100*velocidad_total/velocidad_inicial\n",
    "\n",
    "    print(\"\\nEl porcentaje de la velocidad en el tiempo t respecto la velocidad inicial del proyectil es: \")\n",
    "    print(porcentaje_v)"
   ]
  },
  {
   "cell_type": "code",
   "execution_count": 49,
   "metadata": {},
   "outputs": [
    {
     "name": "stdin",
     "output_type": "stream",
     "text": [
      "Introduzca la velocidad inicial del proyectil:  36\n",
      "Introduzca la posicion de la componente inicial en x:  25\n",
      "Introduzca la posicion inicial en y:  369\n",
      "Introduzca el tiempo en el cual quiere evaluar la velocidad:  25\n",
      "Introduzca el valor de la aceleracion:  28\n",
      "Introduzca el angulo inicial:  36\n"
     ]
    },
    {
     "name": "stdout",
     "output_type": "stream",
     "text": [
      "\n",
      "El vector velocidad inicial es: \n",
      "(0.8090169943749475, 0.5877852522924731)\n",
      "\n",
      "EL vector de velocidad final es: \n",
      "(0.8090169943749475, -678.839730917471)\n",
      "\n",
      "La velocidad final total en m/s es: \n",
      "679.4642178102239\n",
      "\n",
      "El porcentaje de la velocidad en el tiempo t respecto la velocidad inicial del proyectil es: \n",
      "1887.4006050283997\n"
     ]
    }
   ],
   "source": [
    "velocidad_final_en_t()"
   ]
  },
  {
   "cell_type": "code",
   "execution_count": null,
   "metadata": {},
   "outputs": [],
   "source": []
  }
 ],
 "metadata": {
  "kernelspec": {
   "display_name": "Python 3",
   "language": "python",
   "name": "python3"
  },
  "language_info": {
   "codemirror_mode": {
    "name": "ipython",
    "version": 3
   },
   "file_extension": ".py",
   "mimetype": "text/x-python",
   "name": "python",
   "nbconvert_exporter": "python",
   "pygments_lexer": "ipython3",
   "version": "3.8.3"
  }
 },
 "nbformat": 4,
 "nbformat_minor": 4
}
