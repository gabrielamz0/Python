{
 "cells": [
  {
   "cell_type": "markdown",
   "metadata": {},
   "source": [
    "# Funciones para los objetos fundamentales."
   ]
  },
  {
   "cell_type": "code",
   "execution_count": 1,
   "metadata": {},
   "outputs": [],
   "source": [
    "#posicion vertical y(t)\n",
    "def vertical(y0,t,vy0,a=-9.8):\n",
    "    y = y0+vy0*t+1/2*a*(t**2)\n",
    "    return(y)\n",
    "\n",
    "#posicion horizontal x(t)\n",
    "def horizontal(x0,t,vx0):\n",
    "    x = x0+vx0*t\n",
    "    return(x)\n",
    "\n",
    "#vector de posicion\n",
    "def posicion(x0,y0,t,vy0,a=9.8):\n",
    "    y = vertical(y0,t,vy0,a)\n",
    "    x = horizontal(x0,t,vx0)\n",
    "    return(x,y)"
   ]
  },
  {
   "cell_type": "code",
   "execution_count": null,
   "metadata": {},
   "outputs": [],
   "source": []
  },
  {
   "cell_type": "markdown",
   "metadata": {},
   "source": [
    "# Altura maxima y tiempo que toma en alcanzarla."
   ]
  },
  {
   "cell_type": "code",
   "execution_count": 1,
   "metadata": {},
   "outputs": [],
   "source": [
    "#altura maxima\n",
    "def altura_max(v0, a=-9.8):\n",
    "    result = ((- v0**2)/ (2*a))\n",
    "    return(result)"
   ]
  },
  {
   "cell_type": "code",
   "execution_count": 2,
   "metadata": {},
   "outputs": [
    {
     "data": {
      "text/plain": [
       "20.408163265306122"
      ]
     },
     "execution_count": 2,
     "metadata": {},
     "output_type": "execute_result"
    }
   ],
   "source": [
    "altura_max(20)"
   ]
  },
  {
   "cell_type": "code",
   "execution_count": 3,
   "metadata": {},
   "outputs": [
    {
     "name": "stdout",
     "output_type": "stream",
     "text": [
      "INGRESE VELOCIDAD INICIAL\n",
      "-20\n",
      "INGRESE ALTURA MAXIMA\n",
      "20.40\n",
      "El tiempo para alcanzar la altura maxima es:\n",
      "2.0816326530612272\n",
      "1.9999999999999967\n"
     ]
    }
   ],
   "source": [
    "#tiempo en que alcanza altura maxima\n",
    "from math import sqrt\n",
    "\n",
    "A = 4.9\n",
    "B = float(input(\"INGRESE VELOCIDAD INICIAL\\n\"))\n",
    "C = float(input(\"INGRESE ALTURA MAXIMA\\n\"))\n",
    "x1=0\n",
    "x2=0\n",
    "\n",
    "if((B)**2)-(4*A*C)<0:\n",
    "  print(\"La solucion pertenece a los numeros complejos\")\n",
    "    \n",
    "else:\n",
    "  x1 = (-B+sqrt(B**2-(4*A*C)))/(2*A)\n",
    "  x2 = (-B-sqrt(B**2-(4*A*C)))/(2*A)\n",
    "  print(\"El tiempo para alcanzar la altura maxima es:\")\n",
    "  print(x1)\n",
    "  print(x2)"
   ]
  },
  {
   "cell_type": "code",
   "execution_count": null,
   "metadata": {},
   "outputs": [],
   "source": []
  }
 ],
 "metadata": {
  "kernelspec": {
   "display_name": "Python 3",
   "language": "python",
   "name": "python3"
  },
  "language_info": {
   "codemirror_mode": {
    "name": "ipython",
    "version": 3
   },
   "file_extension": ".py",
   "mimetype": "text/x-python",
   "name": "python",
   "nbconvert_exporter": "python",
   "pygments_lexer": "ipython3",
   "version": "3.8.3"
  }
 },
 "nbformat": 4,
 "nbformat_minor": 4
}
