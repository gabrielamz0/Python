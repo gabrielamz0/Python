{
 "cells": [
  {
   "cell_type": "markdown",
   "metadata": {},
   "source": [
    "***Asignación Semana 1***"
   ]
  },
  {
   "cell_type": "markdown",
   "metadata": {},
   "source": [
    "**Ejercicio 1**\n",
    "* Cree funciones para todos los objetos fundamentales:  𝑥(𝑡) ,  𝑦(𝑡) ,  𝑟⃗ (𝑡) ."
   ]
  },
  {
   "cell_type": "code",
   "execution_count": 1,
   "metadata": {},
   "outputs": [],
   "source": [
    "# En estas fórmulas se considera el tiempo inicial como t0=0.\n",
    "\n",
    "import numpy\n",
    "# Posición vertical y(t)\n",
    "def vertical(y0,t,vy0,a=-9.8):\n",
    "    y = y0+vy0*t+1/2*a*(t**2)\n",
    "    return y\n",
    "\n",
    "# Posición horitzonal x(t)\n",
    "def horizontal(x0,t,vx0):\n",
    "    x = x0+vx0*(t)\n",
    "    return x\n",
    "\n",
    "# Vector de posición\n",
    "def Posición (x0,y0,t,vx0,vy0,a=-9.8):\n",
    "    y = vertical(y0,t,vy0,a)\n",
    "    x = horizontal(x0,t,vx0)\n",
    "    return (x,y)\n",
    "\n",
    "\n",
    "\n",
    "\n",
    "\n",
    "\n",
    "\n"
   ]
  },
  {
   "cell_type": "markdown",
   "metadata": {},
   "source": [
    "**Problema 2** \n",
    "* Si conoce el punto y tiempo de disparo del proyectil y punto y tiempo de caída al suelo, ¿Puede encontrar la velocidad inicial $v_0 = (v_{x_0}, v_{y_0})$ con la cual fue disparado? Si es así, programelo. Si no, indique lo que hace falta, y utilícelo para un programa que lo calcule."
   ]
  },
  {
   "cell_type": "code",
   "execution_count": 2,
   "metadata": {},
   "outputs": [],
   "source": [
    "# Solución\n",
    "\n",
    "# Si es posible despejar para las velocidades iniciales. Se proponen las siguientes funciones para el cálculo:\n",
    "\n",
    "# Dadas los valores iniciales xi, yi, ti y los valores finales xf, yf, tf de posición y tiempo:\n",
    "\n",
    "\n",
    "def velin(xi, xf, yi, tf, ti=0,  yf=0):   # se considera yf=0\n",
    "    del_t=tf-ti   # Esta delta es para el caso en que el tiempo inicial no es igual a cero\n",
    "    vxi = (xf-xi)/(del_t)\n",
    "    vyi = (yf-yi)/(del_t)-a*del_t/2\n",
    "    return (vxi, vyi)"
   ]
  },
  {
   "cell_type": "code",
   "execution_count": 4,
   "metadata": {},
   "outputs": [
    {
     "name": "stdout",
     "output_type": "stream",
     "text": [
      "Tiempo final: tf =  7.497121770966482\n",
      "Posición final horizontal: xf =  7.497121770966482\n",
      "Posición final vertical: yf =  12.485608854832408 \n",
      "\n",
      "Velocidades finales calculadas : v = (vx0, vy0) =  (5.0, 6.000000000000001)\n"
     ]
    }
   ],
   "source": [
    "# Ejemplo empleando las funciones del problema 1 para verficar la función del problema 2\n",
    "\n",
    "velxi=5; velyi = 6; y0=2; x0=5; yf=0; ti = 6; a=-9.8\n",
    "\n",
    "# Dadas las condiciones iniciales anteriores se calcula el tiempo final y la posición final:\n",
    "\n",
    "tf = (-velyi-(velyi**2-2*a*y0)**(1/2))/a+ti\n",
    "yf = vertical(y0,tf-ti,velyi) #Notese que se evalua el tiempo en tf-ti, el intervalo del tiempo ya que el tiempo inicial no es 0\n",
    "xf = horizontal(x0, velxi , tf-ti)\n",
    "\n",
    "print(\"Tiempo final: tf = \", tf)\n",
    "print(\"Posición final horizontal: xf = \", tf)\n",
    "print(\"Posición final vertical: yf = \", xf,\"\\n\")\n",
    "\n",
    "\n",
    "# conociendo la posición final y la inicial se corrobora el calculo de la velocidad inicial:\n",
    "print(\"Velocidades finales calculadas : v = (vx0, vy0) = \" , velin(x0, horizontal(x0, velxi , tf-ti),y0,tf,ti))"
   ]
  },
  {
   "cell_type": "code",
   "execution_count": null,
   "metadata": {},
   "outputs": [],
   "source": []
  }
 ],
 "metadata": {
  "kernelspec": {
   "display_name": "Python 3",
   "language": "python",
   "name": "python3"
  },
  "language_info": {
   "codemirror_mode": {
    "name": "ipython",
    "version": 3
   },
   "file_extension": ".py",
   "mimetype": "text/x-python",
   "name": "python",
   "nbconvert_exporter": "python",
   "pygments_lexer": "ipython3",
   "version": "3.7.6"
  }
 },
 "nbformat": 4,
 "nbformat_minor": 4
}
